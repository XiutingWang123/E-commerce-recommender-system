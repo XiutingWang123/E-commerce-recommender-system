{
 "cells": [
  {
   "cell_type": "code",
   "execution_count": 1,
   "metadata": {},
   "outputs": [
    {
     "name": "stderr",
     "output_type": "stream",
     "text": [
      "/Users/yyc/env/tensorflow/lib/python2.7/site-packages/ipykernel_launcher.py:3: DeprecationWarning: the sets module is deprecated\n",
      "  This is separate from the ipykernel package so we can avoid doing imports until\n"
     ]
    }
   ],
   "source": [
    "import pandas as pd\n",
    "import numpy as np\n",
    "from sets import Set"
   ]
  },
  {
   "cell_type": "code",
   "execution_count": 2,
   "metadata": {},
   "outputs": [
    {
     "name": "stderr",
     "output_type": "stream",
     "text": [
      "/Users/yyc/env/tensorflow/lib/python2.7/site-packages/IPython/core/interactiveshell.py:2718: DtypeWarning: Columns (3) have mixed types. Specify dtype option on import or set low_memory=False.\n",
      "  interactivity=interactivity, compiler=compiler, result=result)\n"
     ]
    },
    {
     "name": "stdout",
     "output_type": "stream",
     "text": [
      "   Session ID                 Timestamp    Item ID Category\n",
      "0           1  2014-04-07T10:51:09.277Z  214536502        0\n",
      "1           1  2014-04-07T10:54:09.868Z  214536500        0\n",
      "2           1  2014-04-07T10:54:46.998Z  214536506        0\n",
      "3           1  2014-04-07T10:57:00.306Z  214577561        0\n",
      "4           2  2014-04-07T13:56:37.614Z  214662742        0\n",
      "Total data length: 33003944\n"
     ]
    }
   ],
   "source": [
    "# visulize the yoochoose-clicks.dat dataset\n",
    "clicks = pd.read_csv('yoochoose_data/yoochoose-clicks.dat', header=None, names=['Session ID','Timestamp','Item ID','Category'])\n",
    "print clicks.iloc[:5, :]\n",
    "print 'Total data length: ' + str(len(clicks.index))"
   ]
  },
  {
   "cell_type": "code",
   "execution_count": 3,
   "metadata": {},
   "outputs": [
    {
     "name": "stdout",
     "output_type": "stream",
     "text": [
      "   Session ID                 Timestamp    Item ID  Price  Quantity\n",
      "0      420374  2014-04-06T18:44:58.314Z  214537888  12462         1\n",
      "1      420374  2014-04-06T18:44:58.325Z  214537850  10471         1\n",
      "2      281626  2014-04-06T09:40:13.032Z  214535653   1883         1\n",
      "3      420368  2014-04-04T06:13:28.848Z  214530572   6073         1\n",
      "4      420368  2014-04-04T06:13:28.858Z  214835025   2617         1\n",
      "Total data length: 1150753\n"
     ]
    }
   ],
   "source": [
    "# visulize the yoochoose-buys.dat dataset\n",
    "buys = pd.read_csv('yoochoose_data/yoochoose-buys.dat', header=None, names=['Session ID','Timestamp','Item ID','Price','Quantity'])\n",
    "print buys.iloc[:5, :]\n",
    "print 'Total data length: ' + str(len(buys.index))"
   ]
  },
  {
   "cell_type": "code",
   "execution_count": 4,
   "metadata": {},
   "outputs": [
    {
     "name": "stdout",
     "output_type": "stream",
     "text": [
      "   Session ID                 Timestamp    Item ID Category\n",
      "0           5  2014-04-07T17:13:46.713Z  214530776        0\n",
      "1           5  2014-04-07T17:20:56.973Z  214530776        0\n",
      "2           5  2014-04-07T17:21:19.602Z  214530776        0\n",
      "3          10  2014-04-04T07:44:14.590Z  214820942        0\n",
      "4          10  2014-04-04T07:45:20.245Z  214826810        0\n",
      "Total data length: 8251791\n"
     ]
    }
   ],
   "source": [
    "# visulize the yoochoose-test.dat dataset\n",
    "test = pd.read_csv('yoochoose_data/yoochoose-test.dat', header=None, names=['Session ID','Timestamp','Item ID','Category'])\n",
    "print test.iloc[:5, :]\n",
    "print 'Total data length: ' + str(len(test.index))"
   ]
  },
  {
   "cell_type": "code",
   "execution_count": 4,
   "metadata": {},
   "outputs": [
    {
     "name": "stdout",
     "output_type": "stream",
     "text": [
      "            Item ID  Popularity\n",
      "5643722   643078800      147419\n",
      "21981217  214853094      125690\n",
      "4961288   214829878      113488\n",
      "24943883  214853420       78448\n",
      "1607291   214826610       69710\n",
      "52739\n",
      "    Session ID  Sess cnt\n",
      "0            4   3743564\n",
      "4            6   2179104\n",
      "10           3   4840068\n",
      "13           2   7116174\n",
      "24          12    631824\n",
      "188\n"
     ]
    }
   ],
   "source": [
    "# create a new dataframe with clicks frequency\n",
    "clicks['Popularity'] = clicks.groupby('Item ID')['Item ID'].transform('count') \n",
    "clicks_freq = clicks[['Item ID','Popularity']].drop_duplicates(subset='Item ID', keep='first')\n",
    "clicks_freq = clicks_freq.sort_values('Popularity', ascending=False)\n",
    "print clicks_freq.iloc[:5, :]\n",
    "print len(clicks_freq)\n",
    "\n",
    "clicks['Sess cnt'] = clicks.groupby('Session ID')['Session ID'].transform('count')\n",
    "clicks_sess = clicks[['Session ID','Sess cnt']].drop_duplicates(subset='Session ID', keep='first')\n",
    "print clicks_sess.iloc[:5, :]\n",
    "print len(clicks_sess)"
   ]
  },
  {
   "cell_type": "code",
   "execution_count": 6,
   "metadata": {},
   "outputs": [
    {
     "name": "stdout",
     "output_type": "stream",
     "text": [
      "          Item ID  Popularity\n",
      "40      214821277       14344\n",
      "98753   214844394       14226\n",
      "4308    214821302        9880\n",
      "840925  214850947        8961\n",
      "126738  214829861        7032\n"
     ]
    }
   ],
   "source": [
    "# create a new dataframe with purchase frequency\n",
    "buys['Popularity'] = buys.groupby('Item ID')['Item ID'].transform('count') \n",
    "buys_freq = buys[['Item ID', 'Price','Quantity','Popularity']]\n",
    "buys_freq = buys_freq.drop_duplicates(subset='Item ID', keep='first')\n",
    "buys_freq = buys_freq[buys_freq['Price'] > 50]\n",
    "buys_freq['Popularity'] = buys_freq['Popularity'] * buys_freq['Quantity']\n",
    "buys_freq = buys_freq.sort_values('Popularity', ascending=False)\n",
    "buys_freq = buys_freq[['Item ID', 'Popularity']]\n",
    "print buys_freq.iloc[:5, :]"
   ]
  },
  {
   "cell_type": "code",
   "execution_count": 7,
   "metadata": {},
   "outputs": [
    {
     "name": "stdout",
     "output_type": "stream",
     "text": [
      "610283\n",
      "15162\n"
     ]
    }
   ],
   "source": [
    "from sets import Set\n",
    "# get the item which price < 50\n",
    "set = Set()\n",
    "cnt = 0\n",
    "for row in buys.itertuples():\n",
    "    if row[-3] < 50:\n",
    "        cnt += 1;\n",
    "        set.add(row[-4])\n",
    "print cnt\n",
    "print len(set)"
   ]
  },
  {
   "cell_type": "code",
   "execution_count": 8,
   "metadata": {},
   "outputs": [
    {
     "name": "stdout",
     "output_type": "stream",
     "text": [
      "    Session ID                 Timestamp    Item ID Category\n",
      "6           15  2014-04-05T08:15:49.200Z  214547255        0\n",
      "37          50  2014-04-01T11:15:02.408Z  214718169        0\n",
      "38          50  2014-04-01T11:15:03.514Z  214821015        0\n",
      "46          55  2014-04-07T19:31:05.145Z  214840775        0\n",
      "49          70  2014-04-05T12:41:35.624Z  214827022        0\n",
      "length of train:6601411\n",
      "length of test:1650380\n"
     ]
    }
   ],
   "source": [
    "msk = np.random.rand(len(test)) < 0.8\n",
    "test_for_train = test[msk]\n",
    "test_for_test = test[~msk]\n",
    "print test_for_test.iloc[0:5, :]\n",
    "print 'length of train:' + str(len(test_for_train))\n",
    "print 'length of test:' + str(len(test_for_test))"
   ]
  },
  {
   "cell_type": "code",
   "execution_count": 9,
   "metadata": {},
   "outputs": [
    {
     "name": "stdout",
     "output_type": "stream",
     "text": [
      "   Session ID    Item ID Category  count\n",
      "0           5  214530776        0      3\n",
      "1           5  214530776        0      3\n",
      "2           5  214530776        0      3\n",
      "3          10  214820942        0      2\n",
      "4          10  214826810        0      2\n"
     ]
    }
   ],
   "source": [
    "test['count'] = test.groupby('Session ID')['Session ID'].transform('count') \n",
    "test_count = test[['Session ID','Item ID','Category','count']] #drop_duplicates(subset='Session ID', keep='first')\n",
    "print test_count.iloc[:5, :]"
   ]
  },
  {
   "cell_type": "code",
   "execution_count": 20,
   "metadata": {},
   "outputs": [
    {
     "name": "stdout",
     "output_type": "stream",
     "text": [
      "0         214507224\n",
      "1         214507226\n",
      "2         214507228\n",
      "3         214507239\n",
      "4         214507256\n",
      "5         214507331\n",
      "6         214507365\n",
      "7         214507385\n",
      "8         214507387\n",
      "9         214507408\n",
      "10        214507415\n",
      "11        214507445\n",
      "12        214507447\n",
      "13        214507477\n",
      "14        214507479\n",
      "15        214507481\n",
      "16        214507492\n",
      "17        214507500\n",
      "18        214507556\n",
      "19        214507610\n",
      "20        214507678\n",
      "21        214507708\n",
      "22        214507723\n",
      "23        214507802\n",
      "24        214507897\n",
      "25        214507927\n",
      "26        214507946\n",
      "27        214507948\n",
      "28        214507955\n",
      "29        214507982\n",
      "            ...    \n",
      "52709     643078950\n",
      "52710    1178793047\n",
      "52711    1178794001\n",
      "52712    1178794852\n",
      "52713    1178796523\n",
      "52714    1178796800\n",
      "52715    1178799879\n",
      "52716    1178804544\n",
      "52717    1178812378\n",
      "52718    1178818515\n",
      "52719    1178818815\n",
      "52720    1178819852\n",
      "52721    1178820367\n",
      "52722    1178820399\n",
      "52723    1178824421\n",
      "52724    1178825045\n",
      "52725    1178826028\n",
      "52726    1178826150\n",
      "52727    1178827543\n",
      "52728    1178829538\n",
      "52729    1178833196\n",
      "52730    1178833258\n",
      "52731    1178833614\n",
      "52732    1178833843\n",
      "52733    1178834375\n",
      "52734    1178835219\n",
      "52735    1178835247\n",
      "52736    1178835585\n",
      "52737    1178835641\n",
      "52738    1178837797\n",
      "Name: Item ID, Length: 52739, dtype: int64\n"
     ]
    }
   ],
   "source": [
    "items_list = clicks['Item ID'].drop_duplicates().sort_values().reset_index(drop=True)\n",
    "print items_list"
   ]
  },
  {
   "cell_type": "code",
   "execution_count": null,
   "metadata": {
    "collapsed": true
   },
   "outputs": [],
   "source": []
  }
 ],
 "metadata": {
  "kernelspec": {
   "display_name": "Python 2",
   "language": "python",
   "name": "python2"
  },
  "language_info": {
   "codemirror_mode": {
    "name": "ipython",
    "version": 2
   },
   "file_extension": ".py",
   "mimetype": "text/x-python",
   "name": "python",
   "nbconvert_exporter": "python",
   "pygments_lexer": "ipython2",
   "version": "2.7.12"
  }
 },
 "nbformat": 4,
 "nbformat_minor": 2
}
